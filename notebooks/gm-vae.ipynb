{
 "cells": [
  {
   "cell_type": "code",
   "execution_count": 1,
   "metadata": {},
   "outputs": [],
   "source": [
    "# Source https://github.com/ml-postech/GM-VAE"
   ]
  },
  {
   "cell_type": "code",
   "execution_count": 3,
   "metadata": {},
   "outputs": [],
   "source": [
    "import torch\n",
    "from torch import nn\n",
    "from math import log\n",
    "from torch.nn import functional as F"
   ]
  },
  {
   "cell_type": "markdown",
   "metadata": {},
   "source": [
    "## Encoder"
   ]
  },
  {
   "cell_type": "code",
   "execution_count": 168,
   "metadata": {},
   "outputs": [],
   "source": [
    "# not from gm-vae, just want to uinderstand it better since every task has different encoder and decoder layers\n",
    "class Encoder(nn.Module):\n",
    "    def __init__(self, kernel:int=3, stride:int=1, padding:int=0) -> None:\n",
    "        super(Encoder, self).__init__()\n",
    "\n",
    "        self.encoder = nn.Sequential(\n",
    "            nn.BatchNorm2d(3),\n",
    "            nn.Conv2d(3, 32, kernel, stride, padding), # input image will be bx3x512x512, output bx32x508x508\n",
    "            nn.AvgPool2d(3, 2), # 2x2 avg pooling, TODO: decide if want to use max pooling output bx32x253x253\n",
    "            nn.ReLU(), # output bx32x253x253\n",
    "            nn.Conv2d(32, 64, kernel, stride, padding), # input bx32x253x253, output bx64x251x251\n",
    "            nn.AvgPool2d(3, 2), # 2x2 avg pooling, output bx64x125x125\n",
    "            nn.ReLU(), # output bx64x125x125\n",
    "            nn.Conv2d(64, 128, kernel, stride, padding), # input bx64x125x125, output bx128x123x123\n",
    "            nn.AvgPool2d(3, 2), # 2x2 avg pooling, output bx128x61x61\n",
    "            nn.ReLU(), # output bx128x61x61\n",
    "            nn.Flatten(), # output bx128*61*61\n",
    "            nn.Linear(128*61*61, 2* 128*3*3) # output bx3*128*61*61 \n",
    "        )\n",
    "\n",
    "\n",
    "        \"\"\"\n",
    "        Calculating the output size of the encoder\n",
    "        [(W-F+2P)/S + 1]. [(512-3+0)/1 + 1] = 510 conv1\n",
    "        [(W-F)/S] + 1]. [(510-3)/2 + 1] = 254 pool1\n",
    "        [(W-F+2P)/S + 1]. [(253-3+)/1 + 1] = 252 conv2\n",
    "        [(W-F)/S] + 1]. [(251-3)/2 + 1] = 125 pool2\n",
    "        [(W-F+2P)/S + 1]. [(125-3+0)/1 + 1] = 123 conv3\n",
    "        [(W-F)/S] + 1]. [(123-3)/2 + 1] = 61 pool3\n",
    "        [(W-F+2P)/S + 1]. [(61-3+0)/1 + 1] = 59 conv4\n",
    "        [(W-F)/S] + 1]. [(59-3)/2 + 1] = 29 pool4\n",
    "        \"\"\"\n",
    "\n",
    "    def resize(self, x: torch.Tensor) -> torch.Tensor:\n",
    "        # resize image to 3x512x512\n",
    "        x = F.interpolate(x, size=(512, 512), mode='bilinear', align_corners=True)\n",
    "        return x\n",
    "\n",
    "\n",
    "    def encode(self, x: torch.Tensor) -> torch.Tensor:\n",
    "        x = self.resize(x)\n",
    "        x = self.encoder(x)\n",
    "\n",
    "        # split into mean and logvar\n",
    "        mean, logvar = torch.chunk(x, 2, dim=1)\n",
    "\n",
    "        return mean, logvar, x\n",
    "\n",
    "    def forward(self, x: torch.Tensor) -> torch.Tensor:\n",
    "        return self.encode(x)\n",
    "\n",
    "\n"
   ]
  },
  {
   "cell_type": "code",
   "execution_count": 169,
   "metadata": {},
   "outputs": [],
   "source": [
    "# create false image\n",
    "image = torch.randint(0, 255, (1, 3, 512, 512), dtype=torch.float32)"
   ]
  },
  {
   "cell_type": "code",
   "execution_count": 170,
   "metadata": {},
   "outputs": [],
   "source": [
    "encoder = Encoder()"
   ]
  },
  {
   "cell_type": "code",
   "execution_count": 171,
   "metadata": {},
   "outputs": [
    {
     "data": {
      "text/plain": [
       "tensor(69)"
      ]
     },
     "execution_count": 171,
     "metadata": {},
     "output_type": "execute_result"
    }
   ],
   "source": [
    "import numpy as np\n",
    "np.argmax(image)"
   ]
  },
  {
   "cell_type": "code",
   "execution_count": 172,
   "metadata": {},
   "outputs": [
    {
     "data": {
      "text/plain": [
       "torch.Size([1, 3, 512, 512])"
      ]
     },
     "execution_count": 172,
     "metadata": {},
     "output_type": "execute_result"
    }
   ],
   "source": [
    "image.shape"
   ]
  },
  {
   "cell_type": "code",
   "execution_count": 173,
   "metadata": {},
   "outputs": [
    {
     "data": {
      "text/plain": [
       "tensor([93., 46., 31.])"
      ]
     },
     "execution_count": 173,
     "metadata": {},
     "output_type": "execute_result"
    }
   ],
   "source": [
    "image[0][:, 0, 0]"
   ]
  },
  {
   "cell_type": "code",
   "execution_count": 174,
   "metadata": {},
   "outputs": [],
   "source": [
    "output_image = encoder.encode(image)\n",
    "# [(W-F+2P)/S + 1]. [(512-3+0)/1 + 1] = 510 conv1\n",
    "# [(W-F)/S] + 1]. [(510-3)/2 + 1] = 254 pool1\n",
    "# [(W-F+2P)/S + 1]. [(253-3+)/1 + 1] = 252 conv2\n",
    "# [(W-F)/S] + 1]. [(251-3)/2 + 1] = 125 pool2\n",
    "# [(W-F+2P)/S + 1]. [(125-3+0)/1 + 1] = 123 conv3\n",
    "# [(W-F)/S] + 1]. [(123-3)/2 + 1] = 61 pool3\n",
    "# [(W-F+2P)/S + 1]. [(61-3+0)/1 + 1] = 59 conv4\n",
    "# [(W-F)/S] + 1]. [(59-3)/2 + 1] = 29 pool4\n"
   ]
  },
  {
   "cell_type": "code",
   "execution_count": 176,
   "metadata": {},
   "outputs": [
    {
     "data": {
      "text/plain": [
       "torch.Size([1, 2304])"
      ]
     },
     "execution_count": 176,
     "metadata": {},
     "output_type": "execute_result"
    }
   ],
   "source": [
    "output_image[2].shape"
   ]
  },
  {
   "cell_type": "code",
   "execution_count": 177,
   "metadata": {},
   "outputs": [
    {
     "data": {
      "text/plain": [
       "torch.Size([1, 1152])"
      ]
     },
     "execution_count": 177,
     "metadata": {},
     "output_type": "execute_result"
    }
   ],
   "source": [
    "output_image[1].shape"
   ]
  },
  {
   "cell_type": "code",
   "execution_count": 178,
   "metadata": {},
   "outputs": [
    {
     "data": {
      "text/plain": [
       "torch.Size([1, 1152])"
      ]
     },
     "execution_count": 178,
     "metadata": {},
     "output_type": "execute_result"
    }
   ],
   "source": [
    "output_image[0].shape"
   ]
  },
  {
   "cell_type": "code",
   "execution_count": 158,
   "metadata": {},
   "outputs": [
    {
     "data": {
      "text/plain": [
       "(tensor([[ 0.0070, -0.0009, -0.0333,  ..., -0.0028,  0.0082, -0.0074]],\n",
       "        grad_fn=<SplitBackward0>),\n",
       " tensor([[-0.0104,  0.0211, -0.0100,  ..., -0.0046,  0.0060,  0.0032]],\n",
       "        grad_fn=<SplitBackward0>))"
      ]
     },
     "execution_count": 158,
     "metadata": {},
     "output_type": "execute_result"
    }
   ],
   "source": [
    "output_image"
   ]
  },
  {
   "cell_type": "code",
   "execution_count": 96,
   "metadata": {},
   "outputs": [
    {
     "data": {
      "text/plain": [
       "30200"
      ]
     },
     "execution_count": 96,
     "metadata": {},
     "output_type": "execute_result"
    }
   ],
   "source": [
    "np.argmax(output_image.detach().numpy())"
   ]
  },
  {
   "cell_type": "code",
   "execution_count": 99,
   "metadata": {},
   "outputs": [
    {
     "data": {
      "text/plain": [
       "tensor(0.0947, grad_fn=<SelectBackward0>)"
      ]
     },
     "execution_count": 99,
     "metadata": {},
     "output_type": "execute_result"
    }
   ],
   "source": [
    "output_image[0, 30200]"
   ]
  },
  {
   "cell_type": "code",
   "execution_count": 100,
   "metadata": {},
   "outputs": [
    {
     "data": {
      "text/plain": [
       "tensor([[0.0538, 0.0477, 0.0459,  ..., 0.0050, 0.0070, 0.0060]],\n",
       "       grad_fn=<ViewBackward0>)"
      ]
     },
     "execution_count": 100,
     "metadata": {},
     "output_type": "execute_result"
    }
   ],
   "source": [
    "output_image"
   ]
  },
  {
   "cell_type": "markdown",
   "metadata": {},
   "source": [
    "## Decoder"
   ]
  },
  {
   "cell_type": "code",
   "execution_count": 179,
   "metadata": {},
   "outputs": [],
   "source": [
    "class Decoder(nn.Module):\n",
    "    def __init__(self, kernel:int=3, stride:int=1, padding:int=0) -> None:\n",
    "        super(Decoder, self).__init__()\n",
    "\n",
    "        self.decoder = nn.Sequential(\n",
    "            nn.ConvTranspose2d(128, 64, kernel, stride, padding),\n",
    "            nn.ReLU(),\n",
    "            nn.ConvTranspose2d(64, 32, kernel, stride, padding),\n",
    "            nn.ReLU(),\n",
    "            nn.ConvTranspose2d(32, 3, kernel, stride, padding),\n",
    "            nn.ReLU()\n",
    "        )\n",
    "        \n",
    "    \n",
    "    def decode(self, x: torch.Tensor) -> torch.Tensor:\n",
    "        x = self.decoder(x)\n",
    "        return x\n",
    "    \n",
    "    def forward(self, x: torch.Tensor) -> torch.Tensor:\n",
    "        return self.decode(x)\n"
   ]
  },
  {
   "cell_type": "code",
   "execution_count": 180,
   "metadata": {},
   "outputs": [],
   "source": [
    "decoder = Decoder()"
   ]
  },
  {
   "cell_type": "code",
   "execution_count": 188,
   "metadata": {},
   "outputs": [
    {
     "name": "stdout",
     "output_type": "stream",
     "text": [
      "Mean shape:  torch.Size([1, 1152])\n",
      "Logvar shape:  torch.Size([1, 1152])\n"
     ]
    }
   ],
   "source": [
    "mean, logvar, _ = encoder.encode(image)\n",
    "print(\"Mean shape: \", mean.shape)\n",
    "print(\"Logvar shape: \", logvar.shape)"
   ]
  },
  {
   "cell_type": "code",
   "execution_count": null,
   "metadata": {},
   "outputs": [],
   "source": [
    "z = variational.rsample(n_samples)"
   ]
  },
  {
   "cell_type": "code",
   "execution_count": null,
   "metadata": {},
   "outputs": [],
   "source": []
  },
  {
   "cell_type": "code",
   "execution_count": 183,
   "metadata": {},
   "outputs": [
    {
     "data": {
      "text/plain": [
       "torch.Size([1, 3, 9, 9])"
      ]
     },
     "execution_count": 183,
     "metadata": {},
     "output_type": "execute_result"
    }
   ],
   "source": [
    "decoder.decode(output_image[0].view(1, 128, 3, 3)).shape"
   ]
  },
  {
   "cell_type": "code",
   "execution_count": null,
   "metadata": {},
   "outputs": [],
   "source": []
  }
 ],
 "metadata": {
  "kernelspec": {
   "display_name": "Python 3",
   "language": "python",
   "name": "python3"
  },
  "language_info": {
   "codemirror_mode": {
    "name": "ipython",
    "version": 3
   },
   "file_extension": ".py",
   "mimetype": "text/x-python",
   "name": "python",
   "nbconvert_exporter": "python",
   "pygments_lexer": "ipython3",
   "version": "3.11.7"
  }
 },
 "nbformat": 4,
 "nbformat_minor": 2
}
