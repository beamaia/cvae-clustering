{
 "cells": [
  {
   "cell_type": "code",
   "execution_count": 1,
   "id": "b6334dbd-084d-47cf-8e8d-5d21c301b1ff",
   "metadata": {
    "tags": []
   },
   "outputs": [],
   "source": [
    "import torch\n",
    "from torchvision import datasets, transforms\n",
    "from torch.utils.data import DataLoader\n",
    "from torch import nn\n",
    "from torch.autograd import Variable"
   ]
  },
  {
   "cell_type": "code",
   "execution_count": 2,
   "id": "15bb1f93-a080-47a0-8bcb-426b89b10967",
   "metadata": {
    "tags": []
   },
   "outputs": [],
   "source": [
    "class VAE(nn.Module):\n",
    "    def __init__(self):\n",
    "        super(VAE, self).__init__()\n",
    "\n",
    "        # Encoder\n",
    "        self.conv1 = nn.Conv2d(3, 16, kernel_size=3, stride=1)\n",
    "        self.bn1 = nn.BatchNorm2d(16)\n",
    "        \n",
    "        self.conv2 = nn.Conv2d(16, 32, kernel_size=3, stride=2)\n",
    "        self.bn2 = nn.BatchNorm2d(32)\n",
    "        \n",
    "        self.conv3 = nn.Conv2d(32, 64, kernel_size=3, stride=1)\n",
    "        self.bn3 = nn.BatchNorm2d(64)\n",
    "\n",
    "        self.fc1 = nn.Linear(8 * 8 * 16, 512)\n",
    "        self.fc_bn1 = nn.BatchNorm1d(512)\n",
    "        self.fc21 = nn.Linear(512, 512)\n",
    "        self.fc22 = nn.Linear(512, 512)\n",
    "\n",
    "        # Decoder\n",
    "        self.fc3 = nn.Linear(512, 512)\n",
    "        self.fc_bn3 = nn.BatchNorm1d(512)\n",
    "        self.fc4 = nn.Linear(512, 8 * 8 * 16)\n",
    "        self.fc_bn4 = nn.BatchNorm1d(8 * 8 * 16)\n",
    "\n",
    "        self.conv5 = nn.ConvTranspose2d(16, 32, kernel_size=3, stride=2, padding=1, output_padding=1,)\n",
    "        self.bn5 = nn.BatchNorm2d(32)\n",
    "        \n",
    "        self.conv6 = nn.ConvTranspose2d(32, 32, kernel_size=3, stride=1, padding=1)\n",
    "        self.bn6 = nn.BatchNorm2d(32)\n",
    "        \n",
    "        self.conv7 = nn.ConvTranspose2d(32, 16, kernel_size=3, stride=2, padding=1, output_padding=1)\n",
    "        self.bn7 = nn.BatchNorm2d(16)\n",
    "        \n",
    "        self.conv8 = nn.ConvTranspose2d(16, 3 * 256, kernel_size=3, stride=1, padding=1)\n",
    "\n",
    "        self.relu = nn.ReLU()\n",
    "        \n",
    "    def encode(self, x):\n",
    "        conv1 = self.relu(self.bn1(self.conv1(x)))\n",
    "        conv2 = self.relu(self.bn2(self.conv2(conv1)))\n",
    "        conv3 = self.relu(self.bn3(self.conv3(conv2))).view(-1, 8 * 8 * 16)\n",
    "\n",
    "        fc1 = self.relu(self.fc_bn1(self.fc1(conv3)))\n",
    "        return self.fc21(fc1), self.fc22(fc1)\n",
    "\n",
    "    def reparameterize(self, mu, logvar):\n",
    "        if self.training:\n",
    "            std = logvar.mul(0.5).exp_()\n",
    "            eps = Variable(std.data.new(std.size()).normal_())\n",
    "            return eps.mul(std).add_(mu)\n",
    "        else:\n",
    "            return mu\n",
    "\n",
    "    def decode(self, z):\n",
    "        fc3 = self.relu(self.fc_bn3(self.fc3(z)))\n",
    "        fc4 = self.relu(self.fc_bn4(self.fc4(fc3))).view(-1, 16, 8, 8)\n",
    "\n",
    "        conv5 = self.relu(self.bn5(self.conv5(fc4)))\n",
    "        conv6 = self.relu(self.bn6(self.conv6(conv5)))\n",
    "        conv7 = self.relu(self.bn7(self.conv7(conv6)))\n",
    "        return self.conv8(conv7).view(-1, 256, 3, 512, 512)\n",
    "\n",
    "    def forward(self, x):\n",
    "        mu, logvar = self.encode(x)\n",
    "        z = self.reparameterize(mu, logvar)\n",
    "        return self.decode(z), mu, logvar"
   ]
  },
  {
   "cell_type": "code",
   "execution_count": 3,
   "id": "2621352e-0088-45e9-a3c0-d5624a3f2f21",
   "metadata": {
    "tags": []
   },
   "outputs": [],
   "source": [
    "transform_test = transforms.Compose([transforms.ToTensor()])\n",
    "\n",
    "test_data = datasets.ImageFolder('../data/patches/data/test', transform = transform_test)"
   ]
  },
  {
   "cell_type": "code",
   "execution_count": 4,
   "id": "db9bacd5-de4f-4692-9c4e-c56dbca3b3b9",
   "metadata": {
    "tags": []
   },
   "outputs": [
    {
     "data": {
      "text/plain": [
       "(tensor([[[0.5686, 0.5765, 0.5647,  ..., 0.6902, 0.6745, 0.6706],\n",
       "          [0.5569, 0.5608, 0.5647,  ..., 0.6902, 0.6902, 0.6941],\n",
       "          [0.5490, 0.5647, 0.5725,  ..., 0.6941, 0.7098, 0.7333],\n",
       "          ...,\n",
       "          [0.8471, 0.8706, 0.8745,  ..., 0.5608, 0.5686, 0.5725],\n",
       "          [0.8549, 0.8784, 0.8824,  ..., 0.5922, 0.6078, 0.5804],\n",
       "          [0.8510, 0.8784, 0.8745,  ..., 0.5961, 0.6157, 0.5922]],\n",
       " \n",
       "         [[0.4118, 0.4118, 0.4078,  ..., 0.5255, 0.5059, 0.5216],\n",
       "          [0.4039, 0.4000, 0.4039,  ..., 0.5176, 0.5176, 0.5216],\n",
       "          [0.3961, 0.3922, 0.4000,  ..., 0.5020, 0.5059, 0.5137],\n",
       "          ...,\n",
       "          [0.7176, 0.7176, 0.7059,  ..., 0.4039, 0.4157, 0.4196],\n",
       "          [0.7059, 0.7020, 0.6941,  ..., 0.4157, 0.4157, 0.4235],\n",
       "          [0.7098, 0.7098, 0.7059,  ..., 0.4039, 0.4078, 0.4157]],\n",
       " \n",
       "         [[0.6471, 0.6588, 0.6510,  ..., 0.7216, 0.7137, 0.7059],\n",
       "          [0.6275, 0.6353, 0.6392,  ..., 0.7098, 0.7098, 0.7137],\n",
       "          [0.6196, 0.6314, 0.6392,  ..., 0.6863, 0.6863, 0.7059],\n",
       "          ...,\n",
       "          [0.7922, 0.7922, 0.7725,  ..., 0.6392, 0.6392, 0.6353],\n",
       "          [0.8039, 0.7843, 0.7882,  ..., 0.6314, 0.6353, 0.6275],\n",
       "          [0.8196, 0.8157, 0.8157,  ..., 0.6235, 0.6275, 0.6392]]]),\n",
       " 0)"
      ]
     },
     "execution_count": 4,
     "metadata": {},
     "output_type": "execute_result"
    }
   ],
   "source": [
    "test_data[0]"
   ]
  },
  {
   "cell_type": "code",
   "execution_count": 5,
   "id": "e0a0dce7-4b42-44ec-b194-857a1e004c1c",
   "metadata": {
    "tags": []
   },
   "outputs": [],
   "source": [
    "test_loader = DataLoader(test_data, batch_size=2)"
   ]
  },
  {
   "cell_type": "code",
   "execution_count": 10,
   "id": "f73f17ea-b1f5-4e09-bc7d-d543f3dd6ddb",
   "metadata": {
    "tags": []
   },
   "outputs": [
    {
     "data": {
      "text/plain": [
       "VAE(\n",
       "  (conv1): Conv2d(3, 16, kernel_size=(3, 3), stride=(1, 1))\n",
       "  (bn1): BatchNorm2d(16, eps=1e-05, momentum=0.1, affine=True, track_running_stats=True)\n",
       "  (conv2): Conv2d(16, 32, kernel_size=(3, 3), stride=(2, 2))\n",
       "  (bn2): BatchNorm2d(32, eps=1e-05, momentum=0.1, affine=True, track_running_stats=True)\n",
       "  (conv3): Conv2d(32, 64, kernel_size=(3, 3), stride=(1, 1))\n",
       "  (bn3): BatchNorm2d(64, eps=1e-05, momentum=0.1, affine=True, track_running_stats=True)\n",
       "  (fc1): Linear(in_features=1024, out_features=512, bias=True)\n",
       "  (fc_bn1): BatchNorm1d(512, eps=1e-05, momentum=0.1, affine=True, track_running_stats=True)\n",
       "  (fc21): Linear(in_features=512, out_features=512, bias=True)\n",
       "  (fc22): Linear(in_features=512, out_features=512, bias=True)\n",
       "  (fc3): Linear(in_features=512, out_features=512, bias=True)\n",
       "  (fc_bn3): BatchNorm1d(512, eps=1e-05, momentum=0.1, affine=True, track_running_stats=True)\n",
       "  (fc4): Linear(in_features=512, out_features=1024, bias=True)\n",
       "  (fc_bn4): BatchNorm1d(1024, eps=1e-05, momentum=0.1, affine=True, track_running_stats=True)\n",
       "  (conv5): ConvTranspose2d(16, 32, kernel_size=(3, 3), stride=(2, 2), padding=(1, 1), output_padding=(1, 1))\n",
       "  (bn5): BatchNorm2d(32, eps=1e-05, momentum=0.1, affine=True, track_running_stats=True)\n",
       "  (conv6): ConvTranspose2d(32, 32, kernel_size=(3, 3), stride=(1, 1), padding=(1, 1))\n",
       "  (bn6): BatchNorm2d(32, eps=1e-05, momentum=0.1, affine=True, track_running_stats=True)\n",
       "  (conv7): ConvTranspose2d(32, 16, kernel_size=(3, 3), stride=(2, 2), padding=(1, 1), output_padding=(1, 1))\n",
       "  (bn7): BatchNorm2d(16, eps=1e-05, momentum=0.1, affine=True, track_running_stats=True)\n",
       "  (conv8): ConvTranspose2d(16, 768, kernel_size=(3, 3), stride=(1, 1), padding=(1, 1))\n",
       "  (relu): ReLU()\n",
       ")"
      ]
     },
     "execution_count": 10,
     "metadata": {},
     "output_type": "execute_result"
    }
   ],
   "source": [
    "model = VAE()\n",
    "model.train()"
   ]
  },
  {
   "cell_type": "code",
   "execution_count": 11,
   "id": "91667f7b-a1b8-4062-b9e6-6db6a53cee3b",
   "metadata": {
    "tags": []
   },
   "outputs": [],
   "source": [
    "for img, label in test_loader:\n",
    "    outputs = model.encode(img)\n",
    "    break"
   ]
  },
  {
   "cell_type": "code",
   "execution_count": 12,
   "id": "98be6eb1-0fdd-4d86-bc1f-6b9c07a3473f",
   "metadata": {
    "tags": []
   },
   "outputs": [
    {
     "data": {
      "text/plain": [
       "torch.Size([7938, 512])"
      ]
     },
     "execution_count": 12,
     "metadata": {},
     "output_type": "execute_result"
    }
   ],
   "source": [
    "outputs[0].shape"
   ]
  },
  {
   "cell_type": "code",
   "execution_count": 13,
   "id": "64c7513f-aa9c-4a90-b7fc-7ca1279f2087",
   "metadata": {
    "tags": []
   },
   "outputs": [],
   "source": [
    "z = model.reparameterize(outputs[0], outputs[1])"
   ]
  },
  {
   "cell_type": "code",
   "execution_count": 14,
   "id": "5d89df83-c534-48f8-96f1-248cc86f7040",
   "metadata": {
    "tags": []
   },
   "outputs": [
    {
     "data": {
      "text/plain": [
       "torch.Size([7938, 512])"
      ]
     },
     "execution_count": 14,
     "metadata": {},
     "output_type": "execute_result"
    }
   ],
   "source": [
    "z.shape"
   ]
  },
  {
   "cell_type": "code",
   "execution_count": null,
   "id": "25c33863-54ff-46c5-a8bb-4d2e10190690",
   "metadata": {
    "tags": []
   },
   "outputs": [],
   "source": [
    "model.decode(z)"
   ]
  },
  {
   "cell_type": "code",
   "execution_count": null,
   "id": "c909ad30-dfe9-4105-88f7-9bae5df36eb3",
   "metadata": {},
   "outputs": [],
   "source": []
  }
 ],
 "metadata": {
  "kernelspec": {
   "display_name": "conda_pytorch_p310",
   "language": "python",
   "name": "conda_pytorch_p310"
  },
  "language_info": {
   "codemirror_mode": {
    "name": "ipython",
    "version": 3
   },
   "file_extension": ".py",
   "mimetype": "text/x-python",
   "name": "python",
   "nbconvert_exporter": "python",
   "pygments_lexer": "ipython3",
   "version": "3.10.12"
  }
 },
 "nbformat": 4,
 "nbformat_minor": 5
}
