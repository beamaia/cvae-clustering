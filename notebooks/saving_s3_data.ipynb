{
 "cells": [
  {
   "cell_type": "code",
   "execution_count": 9,
   "id": "1d9ae2b0-f7e9-4df8-a560-71f1a353d0b8",
   "metadata": {
    "tags": []
   },
   "outputs": [],
   "source": [
    "import sagemaker\n",
    "import boto3\n",
    "import pandas as pd\n",
    "\n",
    "import yaml"
   ]
  },
  {
   "cell_type": "code",
   "execution_count": 10,
   "id": "ce56b5dc-8d48-4edd-83dc-de0d856df90a",
   "metadata": {
    "tags": []
   },
   "outputs": [],
   "source": [
    "def open_yaml(file_path):\n",
    "    with open(file_path) as f:\n",
    "        file_yaml = yaml.load(f, Loader=yaml.FullLoader)\n",
    "\n",
    "    return file_yaml"
   ]
  },
  {
   "cell_type": "code",
   "execution_count": 11,
   "id": "850f4bb5-7ab7-4d3f-8970-0865e14ff3f7",
   "metadata": {
    "tags": []
   },
   "outputs": [],
   "source": [
    "yaml_content = open_yaml(\"../params.yaml\")"
   ]
  },
  {
   "cell_type": "code",
   "execution_count": 12,
   "id": "f1f65099-7fa4-4f5e-b650-8382e62d951c",
   "metadata": {
    "tags": []
   },
   "outputs": [],
   "source": [
    "# Patches dataset\n",
    "BUCKET_PATCHES = yaml_content['etc']['BUCKET_PATCHES']\n",
    "DATA_PATH = 'data/data_train_test.zip'\n",
    "FILE_NAME = 'patches.zip'"
   ]
  },
  {
   "cell_type": "code",
   "execution_count": 13,
   "id": "283901fa-eb3e-4626-9ede-da88706b04e1",
   "metadata": {
    "tags": []
   },
   "outputs": [
    {
     "name": "stdout",
     "output_type": "stream",
     "text": [
      "sagemaker.config INFO - Not applying SDK defaults from location: /etc/xdg/sagemaker/config.yaml\n",
      "sagemaker.config INFO - Not applying SDK defaults from location: /home/ec2-user/.config/sagemaker/config.yaml\n"
     ]
    }
   ],
   "source": [
    "session = sagemaker.Session(default_bucket=BUCKET_PATCHES)"
   ]
  },
  {
   "cell_type": "code",
   "execution_count": 14,
   "id": "f26baffb-49d3-4c15-b314-3d24230f5f9c",
   "metadata": {
    "tags": []
   },
   "outputs": [],
   "source": [
    "role = session.account_id"
   ]
  },
  {
   "cell_type": "code",
   "execution_count": 15,
   "id": "fbeab071-1012-4c3e-8869-90557b2bcac7",
   "metadata": {
    "tags": []
   },
   "outputs": [],
   "source": [
    "s3 = boto3.client('s3')\n",
    "s3.download_file(BUCKET_PATCHES, DATA_PATH, FILE_NAME)"
   ]
  }
 ],
 "metadata": {
  "kernelspec": {
   "display_name": "conda_python3",
   "language": "python",
   "name": "conda_python3"
  },
  "language_info": {
   "codemirror_mode": {
    "name": "ipython",
    "version": 3
   },
   "file_extension": ".py",
   "mimetype": "text/x-python",
   "name": "python",
   "nbconvert_exporter": "python",
   "pygments_lexer": "ipython3",
   "version": "3.10.12"
  }
 },
 "nbformat": 4,
 "nbformat_minor": 5
}
